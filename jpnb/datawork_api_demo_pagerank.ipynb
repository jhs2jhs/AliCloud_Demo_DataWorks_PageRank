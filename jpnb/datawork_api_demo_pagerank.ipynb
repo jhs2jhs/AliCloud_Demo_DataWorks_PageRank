{
 "cells": [
  {
   "cell_type": "code",
   "execution_count": 1,
   "metadata": {},
   "outputs": [],
   "source": [
    "#!/usr/bin/env python\n",
    "#coding=utf-8\n",
    "\n",
    "import json\n",
    "from pprint import pprint\n",
    "import datetime"
   ]
  },
  {
   "cell_type": "code",
   "execution_count": 2,
   "metadata": {},
   "outputs": [],
   "source": [
    "from aliyunsdkcore.client import AcsClient\n",
    "from aliyunsdkcore.request import CommonRequest"
   ]
  },
  {
   "cell_type": "code",
   "execution_count": 3,
   "metadata": {},
   "outputs": [],
   "source": [
    "def dataworks_api_create_adhoc_dag(accesskey_id, accesskey_secret, region_id, projectname, flowname, bizdate='2018-07-25 00:00:00'):\n",
    "    client = AcsClient(accesskey_id, accesskey_secret, region_id)\n",
    "\n",
    "    request = CommonRequest()\n",
    "    request.set_accept_format('json')\n",
    "    request.set_domain('dataworks.aliyuncs.com')\n",
    "    request.set_method('POST')\n",
    "    request.set_protocol_type('https') # https | http\n",
    "    request.set_version('2018-06-01')\n",
    "    request.set_action_name('CreateManualDag')\n",
    "    \n",
    "    request.add_query_param('ProjectName', projectname)\n",
    "    request.add_query_param('FlowName', flowname)\n",
    "    request.add_query_param('Bizdate', bizdate)\n",
    "\n",
    "    response = client.do_action(request)\n",
    "    #pprint(response)\n",
    "    js = json.loads(response)\n",
    "    status = 'Failed and unknown'\n",
    "    dag_id = '0'\n",
    "    if ('ReturnCode' in js):\n",
    "        if (js['ReturnCode'] == '600011'):\n",
    "            status = 'Failed and bizdate should be in [2019-03-20 00:00:00 format]'\n",
    "        if (js['ReturnCode'] == '0') and ('ReturnValue' in js): \n",
    "            status = 'Succeed'\n",
    "            dag_id = js['ReturnValue']\n",
    "    return js, status, dag_id\n",
    "    "
   ]
  },
  {
   "cell_type": "code",
   "execution_count": 4,
   "metadata": {},
   "outputs": [],
   "source": [
    "def dataworks_api_check_dag(accesskey_id, accesskey_secret, region_id, projectname, flowname, dag_id):\n",
    "    client = AcsClient(accesskey_id, accesskey_secret, region_id)\n",
    "\n",
    "    request = CommonRequest()\n",
    "    request.set_accept_format('json')\n",
    "    request.set_domain('dataworks.aliyuncs.com')\n",
    "    request.set_method('POST')\n",
    "    request.set_protocol_type('https') # https | http\n",
    "    request.set_version('2018-06-01')\n",
    "    request.set_action_name('SearchManualDagNodeInstance')\n",
    "\n",
    "    request.add_query_param('ProjectName', projectname)\n",
    "    request.add_query_param('DagId', dag_id)\n",
    "\n",
    "    response = client.do_action(request)\n",
    "    js = json.loads(response)\n",
    "    status = 'Failed and unknown'\n",
    "    if 'ErrCode' in js:\n",
    "        if js['ErrCode'] == '11020293069':\n",
    "            status = 'dag_id is not validated'\n",
    "        if js['ErrCode'] == '0':\n",
    "            status = 'Succeed'\n",
    "    return js, status"
   ]
  },
  {
   "cell_type": "markdown",
   "metadata": {},
   "source": [
    "# Config # AK is better to be managed in a seperate file"
   ]
  },
  {
   "cell_type": "code",
   "execution_count": 5,
   "metadata": {},
   "outputs": [],
   "source": [
    "accesskey_id = 'xxx' # from your alibaba cloud account\n",
    "accesskey_secret = 'xxx' # from your alibaba cloud account\n",
    "region_id = 'cn-shanghai'\n",
    "\n",
    "projectname = 'jhs_pagerank_sh'\n",
    "flowname = 'pagerank_sh_adhoc'\n",
    "bizdate = str(datetime.datetime.now()).split('.')[0]"
   ]
  },
  {
   "cell_type": "markdown",
   "metadata": {},
   "source": [
    "# get dag api"
   ]
  },
  {
   "cell_type": "code",
   "execution_count": 6,
   "metadata": {},
   "outputs": [
    {
     "name": "stdout",
     "output_type": "stream",
     "text": [
      "api_return: \n",
      "{'RequestId': 'CB49296F-9589-4BDA-B7ED-1C2181E44503',\n",
      " 'ReturnCode': '0',\n",
      " 'ReturnErrorSolution': '',\n",
      " 'ReturnMessage': '',\n",
      " 'ReturnValue': 700019657457}\n",
      "status:  Succeed\n",
      "dag_id:  700019657457\n"
     ]
    }
   ],
   "source": [
    "js, status, dag_id = dataworks_api_create_adhoc_dag(accesskey_id, accesskey_secret, region_id, projectname, flowname, bizdate)\n",
    "\n",
    "print('api_return: ')\n",
    "pprint(js)\n",
    "print('status: ',  status)\n",
    "print('dag_id: ', dag_id)\n"
   ]
  },
  {
   "cell_type": "markdown",
   "metadata": {},
   "source": [
    "# start to get status of api"
   ]
  },
  {
   "cell_type": "code",
   "execution_count": 7,
   "metadata": {},
   "outputs": [],
   "source": [
    "js, status = dataworks_api_check_dag(accesskey_id, accesskey_secret, region_id, projectname, flowname, dag_id)"
   ]
  },
  {
   "cell_type": "code",
   "execution_count": 8,
   "metadata": {},
   "outputs": [
    {
     "name": "stdout",
     "output_type": "stream",
     "text": [
      "api_return: \n",
      "{'Data': {'NodeInsInfo': [{'BeginWaitTimeTime': 1553822772177,\n",
      "                           'Bizdate': 1553788800000,\n",
      "                           'CreateTime': 1553822772138,\n",
      "                           'DagId': 700019657457,\n",
      "                           'DagType': 5,\n",
      "                           'InstanceId': 705772600901,\n",
      "                           'ModifyTime': 1553822772177,\n",
      "                           'NodeName': 'vn_start',\n",
      "                           'Status': 2},\n",
      "                          {'Bizdate': 1553788800000,\n",
      "                           'CreateTime': 1553822772115,\n",
      "                           'DagId': 700019657457,\n",
      "                           'DagType': 5,\n",
      "                           'InstanceId': 705772600897,\n",
      "                           'ModifyTime': 1553822772115,\n",
      "                           'NodeName': 'ddl_ods_pagerank',\n",
      "                           'Status': 1},\n",
      "                          {'Bizdate': 1553788800000,\n",
      "                           'CreateTime': 1553822772121,\n",
      "                           'DagId': 700019657457,\n",
      "                           'DagType': 5,\n",
      "                           'InstanceId': 705772600898,\n",
      "                           'ModifyTime': 1553822772121,\n",
      "                           'NodeName': 'sync_oss_to_odps',\n",
      "                           'Status': 1},\n",
      "                          {'Bizdate': 1553788800000,\n",
      "                           'CreateTime': 1553822772126,\n",
      "                           'DagId': 700019657457,\n",
      "                           'DagType': 5,\n",
      "                           'InstanceId': 705772600899,\n",
      "                           'ModifyTime': 1553822772126,\n",
      "                           'NodeName': 'ddl_dwd_pagerank',\n",
      "                           'Status': 1},\n",
      "                          {'Bizdate': 1553788800000,\n",
      "                           'CreateTime': 1553822772132,\n",
      "                           'DagId': 700019657457,\n",
      "                           'DagType': 5,\n",
      "                           'InstanceId': 705772600900,\n",
      "                           'ModifyTime': 1553822772132,\n",
      "                           'NodeName': 'sync_odps_to_oss',\n",
      "                           'Status': 1}]},\n",
      " 'ErrCode': '0',\n",
      " 'ErrMsg': '',\n",
      " 'RequestId': '35D74BF3-0517-42A1-A8D0-86AD99A6C1B7',\n",
      " 'Success': True}\n"
     ]
    }
   ],
   "source": [
    "print('api_return: ')\n",
    "pprint(js)"
   ]
  },
  {
   "cell_type": "code",
   "execution_count": 11,
   "metadata": {},
   "outputs": [
    {
     "name": "stdout",
     "output_type": "stream",
     "text": [
      "700019657457 | 705772600901 | {'en': 'WAIT_TIME', 'cn': '等待时间'} \n",
      " | 2019-03-28 16:00:00 | 2019-03-29 01:26:12.138000 | 2019-03-29 01:26:12.177000\n",
      "700019657457 | 705772600897 | {'en': 'NOT_RUN', 'cn': '未运行'} \n",
      " | 2019-03-28 16:00:00 | 2019-03-29 01:26:12.115000 | 2019-03-29 01:26:12.115000\n",
      "700019657457 | 705772600898 | {'en': 'NOT_RUN', 'cn': '未运行'} \n",
      " | 2019-03-28 16:00:00 | 2019-03-29 01:26:12.121000 | 2019-03-29 01:26:12.121000\n",
      "700019657457 | 705772600899 | {'en': 'NOT_RUN', 'cn': '未运行'} \n",
      " | 2019-03-28 16:00:00 | 2019-03-29 01:26:12.126000 | 2019-03-29 01:26:12.126000\n",
      "700019657457 | 705772600900 | {'en': 'NOT_RUN', 'cn': '未运行'} \n",
      " | 2019-03-28 16:00:00 | 2019-03-29 01:26:12.132000 | 2019-03-29 01:26:12.132000\n"
     ]
    }
   ],
   "source": [
    "def check_dag_status(status_code):\n",
    "    dag_status = {\n",
    "        1: {'en': 'NOT_RUN', 'cn': \"未运行\"},\n",
    "        2: {'en': 'WAIT_TIME', 'cn': \"等待时间\"},\n",
    "        3: {'en': 'WAIT_RESOURCE', 'cn': \"等待资源\"},\n",
    "        4: {'en': 'RUNNING', 'cn': \"运行中\"},\n",
    "        5: {'en': 'FAILURE', 'cn': \"运行失败\"},\n",
    "        6: {'en': 'SUCCESS', 'cn': \"运行成功\"},\n",
    "        7: {'en': 'CHECKING', 'cn': \"校验中\"}\n",
    "    }\n",
    "    if status_code in dag_status:\n",
    "        return dag_status[status_code]\n",
    "    else:\n",
    "        return 'invalidate status_code, please check'\n",
    "    \n",
    "def dt_to_ds(dt):\n",
    "    dt = int(dt)\n",
    "    ds = datetime.datetime.fromtimestamp(dt / 1e3)\n",
    "    return ds\n",
    "\n",
    "if ('Data' in js) and ('NodeInsInfo' in js['Data']):\n",
    "    for node in js['Data']['NodeInsInfo']:\n",
    "        dag_id = node['DagId']\n",
    "        biz_date = node['Bizdate']\n",
    "        instance_id = node['InstanceId']\n",
    "        create_time = node['CreateTime']\n",
    "        modify_time = node['ModifyTime']\n",
    "        status = check_dag_status(node['Status'])\n",
    "        print('%s | %s | %s \\n | %s | %s | %s'%(dag_id, instance_id, status, dt_to_ds(biz_date), dt_to_ds(create_time), dt_to_ds(modify_time)))\n",
    "    "
   ]
  },
  {
   "cell_type": "code",
   "execution_count": 10,
   "metadata": {},
   "outputs": [],
   "source": [
    "# TODO: further work to check on status and decide if to run in the future"
   ]
  },
  {
   "cell_type": "code",
   "execution_count": null,
   "metadata": {},
   "outputs": [],
   "source": []
  }
 ],
 "metadata": {
  "kernelspec": {
   "display_name": "Python 3",
   "language": "python",
   "name": "python3"
  },
  "language_info": {
   "codemirror_mode": {
    "name": "ipython",
    "version": 3
   },
   "file_extension": ".py",
   "mimetype": "text/x-python",
   "name": "python",
   "nbconvert_exporter": "python",
   "pygments_lexer": "ipython3",
   "version": "3.7.3"
  }
 },
 "nbformat": 4,
 "nbformat_minor": 2
}
